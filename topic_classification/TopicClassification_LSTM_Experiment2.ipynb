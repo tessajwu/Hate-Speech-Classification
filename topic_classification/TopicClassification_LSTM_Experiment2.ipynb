{
  "cells": [
    {
      "cell_type": "code",
      "execution_count": 1,
      "metadata": {
        "colab": {
          "base_uri": "https://localhost:8080/",
          "height": 206
        },
        "id": "EcnCstZpbtj_",
        "outputId": "7ad71049-dc9a-412b-95ea-c0361791a3ba"
      },
      "outputs": [
        {
          "data": {
            "text/html": [
              "\n",
              "  <div id=\"df-35e4ca62-b40c-4c18-9f59-1a98e2ab36c6\" class=\"colab-df-container\">\n",
              "    <div>\n",
              "<style scoped>\n",
              "    .dataframe tbody tr th:only-of-type {\n",
              "        vertical-align: middle;\n",
              "    }\n",
              "\n",
              "    .dataframe tbody tr th {\n",
              "        vertical-align: top;\n",
              "    }\n",
              "\n",
              "    .dataframe thead th {\n",
              "        text-align: right;\n",
              "    }\n",
              "</style>\n",
              "<table border=\"1\" class=\"dataframe\">\n",
              "  <thead>\n",
              "    <tr style=\"text-align: right;\">\n",
              "      <th></th>\n",
              "      <th>category</th>\n",
              "      <th>article</th>\n",
              "    </tr>\n",
              "  </thead>\n",
              "  <tbody>\n",
              "    <tr>\n",
              "      <th>0</th>\n",
              "      <td>COMEDY</td>\n",
              "      <td>of the funniest tweets about cats and dogs thi...</td>\n",
              "    </tr>\n",
              "    <tr>\n",
              "      <th>1</th>\n",
              "      <td>PARENTING</td>\n",
              "      <td>the funniest tweets from parents this week sep...</td>\n",
              "    </tr>\n",
              "    <tr>\n",
              "      <th>2</th>\n",
              "      <td>SPORTS</td>\n",
              "      <td>maury wills basestealing shortstop for dodgers...</td>\n",
              "    </tr>\n",
              "    <tr>\n",
              "      <th>3</th>\n",
              "      <td>ENTERTAINMENT</td>\n",
              "      <td>golden globes returning to nbc in january afte...</td>\n",
              "    </tr>\n",
              "    <tr>\n",
              "      <th>4</th>\n",
              "      <td>POLITICS</td>\n",
              "      <td>biden says us forces would defend taiwan if ch...</td>\n",
              "    </tr>\n",
              "  </tbody>\n",
              "</table>\n",
              "</div>\n",
              "    <div class=\"colab-df-buttons\">\n",
              "\n",
              "  <div class=\"colab-df-container\">\n",
              "    <button class=\"colab-df-convert\" onclick=\"convertToInteractive('df-35e4ca62-b40c-4c18-9f59-1a98e2ab36c6')\"\n",
              "            title=\"Convert this dataframe to an interactive table.\"\n",
              "            style=\"display:none;\">\n",
              "\n",
              "  <svg xmlns=\"http://www.w3.org/2000/svg\" height=\"24px\" viewBox=\"0 -960 960 960\">\n",
              "    <path d=\"M120-120v-720h720v720H120Zm60-500h600v-160H180v160Zm220 220h160v-160H400v160Zm0 220h160v-160H400v160ZM180-400h160v-160H180v160Zm440 0h160v-160H620v160ZM180-180h160v-160H180v160Zm440 0h160v-160H620v160Z\"/>\n",
              "  </svg>\n",
              "    </button>\n",
              "\n",
              "  <style>\n",
              "    .colab-df-container {\n",
              "      display:flex;\n",
              "      gap: 12px;\n",
              "    }\n",
              "\n",
              "    .colab-df-convert {\n",
              "      background-color: #E8F0FE;\n",
              "      border: none;\n",
              "      border-radius: 50%;\n",
              "      cursor: pointer;\n",
              "      display: none;\n",
              "      fill: #1967D2;\n",
              "      height: 32px;\n",
              "      padding: 0 0 0 0;\n",
              "      width: 32px;\n",
              "    }\n",
              "\n",
              "    .colab-df-convert:hover {\n",
              "      background-color: #E2EBFA;\n",
              "      box-shadow: 0px 1px 2px rgba(60, 64, 67, 0.3), 0px 1px 3px 1px rgba(60, 64, 67, 0.15);\n",
              "      fill: #174EA6;\n",
              "    }\n",
              "\n",
              "    .colab-df-buttons div {\n",
              "      margin-bottom: 4px;\n",
              "    }\n",
              "\n",
              "    [theme=dark] .colab-df-convert {\n",
              "      background-color: #3B4455;\n",
              "      fill: #D2E3FC;\n",
              "    }\n",
              "\n",
              "    [theme=dark] .colab-df-convert:hover {\n",
              "      background-color: #434B5C;\n",
              "      box-shadow: 0px 1px 3px 1px rgba(0, 0, 0, 0.15);\n",
              "      filter: drop-shadow(0px 1px 2px rgba(0, 0, 0, 0.3));\n",
              "      fill: #FFFFFF;\n",
              "    }\n",
              "  </style>\n",
              "\n",
              "    <script>\n",
              "      const buttonEl =\n",
              "        document.querySelector('#df-35e4ca62-b40c-4c18-9f59-1a98e2ab36c6 button.colab-df-convert');\n",
              "      buttonEl.style.display =\n",
              "        google.colab.kernel.accessAllowed ? 'block' : 'none';\n",
              "\n",
              "      async function convertToInteractive(key) {\n",
              "        const element = document.querySelector('#df-35e4ca62-b40c-4c18-9f59-1a98e2ab36c6');\n",
              "        const dataTable =\n",
              "          await google.colab.kernel.invokeFunction('convertToInteractive',\n",
              "                                                    [key], {});\n",
              "        if (!dataTable) return;\n",
              "\n",
              "        const docLinkHtml = 'Like what you see? Visit the ' +\n",
              "          '<a target=\"_blank\" href=https://colab.research.google.com/notebooks/data_table.ipynb>data table notebook</a>'\n",
              "          + ' to learn more about interactive tables.';\n",
              "        element.innerHTML = '';\n",
              "        dataTable['output_type'] = 'display_data';\n",
              "        await google.colab.output.renderOutput(dataTable, element);\n",
              "        const docLink = document.createElement('div');\n",
              "        docLink.innerHTML = docLinkHtml;\n",
              "        element.appendChild(docLink);\n",
              "      }\n",
              "    </script>\n",
              "  </div>\n",
              "\n",
              "\n",
              "<div id=\"df-ded42e47-8006-44be-8a2c-698b288c3681\">\n",
              "  <button class=\"colab-df-quickchart\" onclick=\"quickchart('df-ded42e47-8006-44be-8a2c-698b288c3681')\"\n",
              "            title=\"Suggest charts\"\n",
              "            style=\"display:none;\">\n",
              "\n",
              "<svg xmlns=\"http://www.w3.org/2000/svg\" height=\"24px\"viewBox=\"0 0 24 24\"\n",
              "     width=\"24px\">\n",
              "    <g>\n",
              "        <path d=\"M19 3H5c-1.1 0-2 .9-2 2v14c0 1.1.9 2 2 2h14c1.1 0 2-.9 2-2V5c0-1.1-.9-2-2-2zM9 17H7v-7h2v7zm4 0h-2V7h2v10zm4 0h-2v-4h2v4z\"/>\n",
              "    </g>\n",
              "</svg>\n",
              "  </button>\n",
              "\n",
              "<style>\n",
              "  .colab-df-quickchart {\n",
              "      --bg-color: #E8F0FE;\n",
              "      --fill-color: #1967D2;\n",
              "      --hover-bg-color: #E2EBFA;\n",
              "      --hover-fill-color: #174EA6;\n",
              "      --disabled-fill-color: #AAA;\n",
              "      --disabled-bg-color: #DDD;\n",
              "  }\n",
              "\n",
              "  [theme=dark] .colab-df-quickchart {\n",
              "      --bg-color: #3B4455;\n",
              "      --fill-color: #D2E3FC;\n",
              "      --hover-bg-color: #434B5C;\n",
              "      --hover-fill-color: #FFFFFF;\n",
              "      --disabled-bg-color: #3B4455;\n",
              "      --disabled-fill-color: #666;\n",
              "  }\n",
              "\n",
              "  .colab-df-quickchart {\n",
              "    background-color: var(--bg-color);\n",
              "    border: none;\n",
              "    border-radius: 50%;\n",
              "    cursor: pointer;\n",
              "    display: none;\n",
              "    fill: var(--fill-color);\n",
              "    height: 32px;\n",
              "    padding: 0;\n",
              "    width: 32px;\n",
              "  }\n",
              "\n",
              "  .colab-df-quickchart:hover {\n",
              "    background-color: var(--hover-bg-color);\n",
              "    box-shadow: 0 1px 2px rgba(60, 64, 67, 0.3), 0 1px 3px 1px rgba(60, 64, 67, 0.15);\n",
              "    fill: var(--button-hover-fill-color);\n",
              "  }\n",
              "\n",
              "  .colab-df-quickchart-complete:disabled,\n",
              "  .colab-df-quickchart-complete:disabled:hover {\n",
              "    background-color: var(--disabled-bg-color);\n",
              "    fill: var(--disabled-fill-color);\n",
              "    box-shadow: none;\n",
              "  }\n",
              "\n",
              "  .colab-df-spinner {\n",
              "    border: 2px solid var(--fill-color);\n",
              "    border-color: transparent;\n",
              "    border-bottom-color: var(--fill-color);\n",
              "    animation:\n",
              "      spin 1s steps(1) infinite;\n",
              "  }\n",
              "\n",
              "  @keyframes spin {\n",
              "    0% {\n",
              "      border-color: transparent;\n",
              "      border-bottom-color: var(--fill-color);\n",
              "      border-left-color: var(--fill-color);\n",
              "    }\n",
              "    20% {\n",
              "      border-color: transparent;\n",
              "      border-left-color: var(--fill-color);\n",
              "      border-top-color: var(--fill-color);\n",
              "    }\n",
              "    30% {\n",
              "      border-color: transparent;\n",
              "      border-left-color: var(--fill-color);\n",
              "      border-top-color: var(--fill-color);\n",
              "      border-right-color: var(--fill-color);\n",
              "    }\n",
              "    40% {\n",
              "      border-color: transparent;\n",
              "      border-right-color: var(--fill-color);\n",
              "      border-top-color: var(--fill-color);\n",
              "    }\n",
              "    60% {\n",
              "      border-color: transparent;\n",
              "      border-right-color: var(--fill-color);\n",
              "    }\n",
              "    80% {\n",
              "      border-color: transparent;\n",
              "      border-right-color: var(--fill-color);\n",
              "      border-bottom-color: var(--fill-color);\n",
              "    }\n",
              "    90% {\n",
              "      border-color: transparent;\n",
              "      border-bottom-color: var(--fill-color);\n",
              "    }\n",
              "  }\n",
              "</style>\n",
              "\n",
              "  <script>\n",
              "    async function quickchart(key) {\n",
              "      const quickchartButtonEl =\n",
              "        document.querySelector('#' + key + ' button');\n",
              "      quickchartButtonEl.disabled = true;  // To prevent multiple clicks.\n",
              "      quickchartButtonEl.classList.add('colab-df-spinner');\n",
              "      try {\n",
              "        const charts = await google.colab.kernel.invokeFunction(\n",
              "            'suggestCharts', [key], {});\n",
              "      } catch (error) {\n",
              "        console.error('Error during call to suggestCharts:', error);\n",
              "      }\n",
              "      quickchartButtonEl.classList.remove('colab-df-spinner');\n",
              "      quickchartButtonEl.classList.add('colab-df-quickchart-complete');\n",
              "    }\n",
              "    (() => {\n",
              "      let quickchartButtonEl =\n",
              "        document.querySelector('#df-ded42e47-8006-44be-8a2c-698b288c3681 button');\n",
              "      quickchartButtonEl.style.display =\n",
              "        google.colab.kernel.accessAllowed ? 'block' : 'none';\n",
              "    })();\n",
              "  </script>\n",
              "</div>\n",
              "\n",
              "    </div>\n",
              "  </div>\n"
            ],
            "text/plain": [
              "        category                                            article\n",
              "0         COMEDY  of the funniest tweets about cats and dogs thi...\n",
              "1      PARENTING  the funniest tweets from parents this week sep...\n",
              "2         SPORTS  maury wills basestealing shortstop for dodgers...\n",
              "3  ENTERTAINMENT  golden globes returning to nbc in january afte...\n",
              "4       POLITICS  biden says us forces would defend taiwan if ch..."
            ]
          },
          "execution_count": 1,
          "metadata": {},
          "output_type": "execute_result"
        }
      ],
      "source": [
        "import pandas as pd\n",
        "\n",
        "df = pd.read_csv('data_preprocessed.csv')\n",
        "df.head(5)"
      ]
    },
    {
      "cell_type": "code",
      "execution_count": 2,
      "metadata": {
        "id": "-JmNqq6sr_sc"
      },
      "outputs": [],
      "source": [
        "from keras.layers import Conv1D, MaxPooling1D, BatchNormalization, GlobalMaxPooling1D\n",
        "import numpy as np\n",
        "\n",
        "from sklearn.model_selection import train_test_split\n",
        "from sklearn.metrics import confusion_matrix, accuracy_score, classification_report\n",
        "\n",
        "from tensorflow.keras.models import Sequential\n",
        "from tensorflow.keras.layers import Embedding, LSTM, Dropout, Dense, Bidirectional\n",
        "from tensorflow.keras.preprocessing.text import Tokenizer\n",
        "from tensorflow.keras.preprocessing.sequence import pad_sequences\n",
        "from tensorflow.keras.utils import to_categorical\n",
        "from tensorflow.keras.callbacks import EarlyStopping\n",
        "\n",
        "import matplotlib.pyplot as plt\n",
        "import seaborn as sns"
      ]
    },
    {
      "cell_type": "code",
      "execution_count": 3,
      "metadata": {
        "id": "886jBMEwmuWE"
      },
      "outputs": [],
      "source": [
        "df = df.dropna()\n",
        "df = df.astype(str)"
      ]
    },
    {
      "cell_type": "code",
      "execution_count": 4,
      "metadata": {
        "colab": {
          "base_uri": "https://localhost:8080/"
        },
        "id": "Ri0Pedgkx2fK",
        "outputId": "6205f4bd-ad2c-45d5-e650-40d064486ed3"
      },
      "outputs": [
        {
          "name": "stderr",
          "output_type": "stream",
          "text": [
            "[nltk_data] Downloading package wordnet to /root/nltk_data...\n",
            "[nltk_data] Downloading package averaged_perceptron_tagger to\n",
            "[nltk_data]     /root/nltk_data...\n",
            "[nltk_data]   Unzipping taggers/averaged_perceptron_tagger.zip.\n",
            "[nltk_data] Downloading package punkt to /root/nltk_data...\n",
            "[nltk_data]   Unzipping tokenizers/punkt.zip.\n"
          ]
        }
      ],
      "source": [
        "import nltk\n",
        "from nltk.stem import WordNetLemmatizer\n",
        "from nltk.corpus import wordnet\n",
        "\n",
        "# Download necessary NLTK data\n",
        "nltk.download('wordnet')\n",
        "nltk.download('averaged_perceptron_tagger')\n",
        "nltk.download('punkt')\n",
        "\n",
        "# Function to convert NLTK tag to WordNet tag\n",
        "def get_wordnet_pos(tag):\n",
        "    if tag.startswith('J'):\n",
        "        return wordnet.ADJ\n",
        "    elif tag.startswith('V'):\n",
        "        return wordnet.VERB\n",
        "    elif tag.startswith('N'):\n",
        "        return wordnet.NOUN\n",
        "    elif tag.startswith('R'):\n",
        "        return wordnet.ADV\n",
        "    else:\n",
        "        return None\n",
        "\n",
        "# Initialize the WordNet lemmatizer\n",
        "lemmatizer = WordNetLemmatizer()\n",
        "\n",
        "def lemmatize_text(text):\n",
        "    word_pos_tags = nltk.pos_tag(nltk.word_tokenize(text)) # Tokenize text and get word parts of speech\n",
        "    lemmatized_words = []\n",
        "\n",
        "    for word, tag in word_pos_tags:\n",
        "        wntag = get_wordnet_pos(tag)\n",
        "        if wntag is None:  # if no tag, consider it a noun\n",
        "            lemmatized_words.append(lemmatizer.lemmatize(word))\n",
        "        else:\n",
        "            lemmatized_words.append(lemmatizer.lemmatize(word, pos=wntag))\n",
        "\n",
        "    return ' '.join(lemmatized_words)\n",
        "\n",
        "# Apply lemmatization to each article\n",
        "df['article'] = df['article'].apply(lemmatize_text)\n"
      ]
    },
    {
      "cell_type": "code",
      "execution_count": 5,
      "metadata": {
        "id": "c7JrLxVcSj97"
      },
      "outputs": [],
      "source": [
        "def prepare_tokenizer(texts, unknown_token=\"<UNK>\", max_length=200):\n",
        "    tokenizer = Tokenizer(oov_token=unknown_token)\n",
        "    tokenizer.fit_on_texts(texts)\n",
        "    return tokenizer, max_length"
      ]
    },
    {
      "cell_type": "code",
      "execution_count": 6,
      "metadata": {
        "id": "LBt1uxIOX833"
      },
      "outputs": [],
      "source": [
        "def encode_sequences(tokenizer, texts, max_length):\n",
        "    sequences = tokenizer.texts_to_sequences(texts)\n",
        "    padded_sequences = pad_sequences(sequences, maxlen=max_length, truncating='post', padding='pre')\n",
        "    return padded_sequences"
      ]
    },
    {
      "cell_type": "code",
      "execution_count": 7,
      "metadata": {
        "id": "5dMIGETXX85_"
      },
      "outputs": [],
      "source": [
        "def encode_labels(labels):\n",
        "    label_indices = labels.astype('category').cat.codes\n",
        "    return to_categorical(label_indices)"
      ]
    },
    {
      "cell_type": "code",
      "execution_count": 8,
      "metadata": {
        "id": "RKtHHdNXX87_"
      },
      "outputs": [],
      "source": [
        "def split_dataset(X, Y, test_size=0.2, random_state=50):\n",
        "    return train_test_split(X, Y, test_size=test_size, random_state=random_state)\n"
      ]
    },
    {
      "cell_type": "code",
      "execution_count": 31,
      "metadata": {
        "id": "XePA6WEMX894"
      },
      "outputs": [],
      "source": [
        "def load_glove_embeddings(glove_file_path, embedding_dim, word_index):\n",
        "    embeddings_index = {}\n",
        "\n",
        "    # Load GloVe model\n",
        "    with open(glove_file_path, 'r', encoding='utf8') as file:\n",
        "        for line in file:\n",
        "            values = line.split()\n",
        "            word = values[0]\n",
        "            coefs = np.asarray(values[1:], dtype='float32')\n",
        "            embeddings_index[word] = coefs\n",
        "\n",
        "    embedding_matrix = np.zeros((len(word_index) + 1, embedding_dim))\n",
        "    for word, i in word_index.items():\n",
        "        embedding_vector = embeddings_index.get(word)\n",
        "        if embedding_vector is not None:\n",
        "            embedding_matrix[i] = embedding_vector\n",
        "\n",
        "    return embedding_matrix\n"
      ]
    },
    {
      "cell_type": "code",
      "execution_count": 20,
      "metadata": {
        "id": "zalgVs0UX8_5"
      },
      "outputs": [],
      "source": [
        "\n",
        "def build_lstm_model(embedding_matrix, sequence_length, num_classes, lstm_units=150):\n",
        "    model = Sequential()\n",
        "    model.add(Embedding(input_dim=embedding_matrix.shape[0], output_dim=embedding_matrix.shape[1], weights=[embedding_matrix], input_length=sequence_length, trainable=False))\n",
        "\n",
        "    model.add(Conv1D(filters=64, kernel_size=5, activation='relu'))\n",
        "    model.add(MaxPooling1D(pool_size=4))\n",
        "\n",
        "    model.add(Bidirectional(LSTM(lstm_units, return_sequences=True)))\n",
        "    model.add(Bidirectional(LSTM(lstm_units)))\n",
        "\n",
        "    model.add(Dense(64, activation='relu', kernel_regularizer='l2'))\n",
        "    model.add(Dropout(0.3))\n",
        "\n",
        "    model.add(Dense(num_classes, activation='softmax'))\n",
        "\n",
        "    model.compile(optimizer='adam', loss='categorical_crossentropy', metrics=['accuracy'])\n",
        "    return model\n"
      ]
    },
    {
      "cell_type": "code",
      "execution_count": 22,
      "metadata": {
        "id": "9qC6xyOPX9Bi"
      },
      "outputs": [],
      "source": [
        "tokenizer, max_length = prepare_tokenizer(df['article'])\n",
        "X = encode_sequences(tokenizer, df['article'], max_length)\n",
        "Y = encode_labels(df['category'])"
      ]
    },
    {
      "cell_type": "code",
      "execution_count": 23,
      "metadata": {
        "id": "cWi11mzHYf8m"
      },
      "outputs": [],
      "source": [
        "X_train, X_test, y_train, y_test = split_dataset(X, Y)\n"
      ]
    },
    {
      "cell_type": "code",
      "execution_count": 24,
      "metadata": {
        "id": "0itWk3G2YsQE"
      },
      "outputs": [],
      "source": [
        "embedding_matrix = load_glove_embeddings('glove.6B.200d.txt', 200, tokenizer.word_index)"
      ]
    },
    {
      "cell_type": "code",
      "execution_count": 26,
      "metadata": {
        "colab": {
          "base_uri": "https://localhost:8080/"
        },
        "id": "XUuaFi4gYtvE",
        "outputId": "1c153d33-b90b-46c0-c363-a65a4c1009b9"
      },
      "outputs": [
        {
          "name": "stdout",
          "output_type": "stream",
          "text": [
            "Epoch 1/10\n",
            "2780/2780 [==============================] - 65s 20ms/step - loss: 0.9748 - accuracy: 0.7243 - val_loss: 0.7604 - val_accuracy: 0.7802\n",
            "Epoch 2/10\n",
            "2780/2780 [==============================] - 50s 18ms/step - loss: 0.7228 - accuracy: 0.7961 - val_loss: 0.7032 - val_accuracy: 0.7933\n",
            "Epoch 3/10\n",
            "2780/2780 [==============================] - 52s 19ms/step - loss: 0.6479 - accuracy: 0.8168 - val_loss: 0.6912 - val_accuracy: 0.7974\n",
            "Epoch 4/10\n",
            "2780/2780 [==============================] - 53s 19ms/step - loss: 0.5881 - accuracy: 0.8342 - val_loss: 0.6829 - val_accuracy: 0.8017\n",
            "Epoch 5/10\n",
            "2780/2780 [==============================] - 49s 18ms/step - loss: 0.5380 - accuracy: 0.8487 - val_loss: 0.6853 - val_accuracy: 0.8021\n",
            "Epoch 6/10\n",
            "2780/2780 [==============================] - 50s 18ms/step - loss: 0.4929 - accuracy: 0.8631 - val_loss: 0.6972 - val_accuracy: 0.8020\n",
            "Epoch 7/10\n",
            "2780/2780 [==============================] - 49s 18ms/step - loss: 0.4495 - accuracy: 0.8748 - val_loss: 0.7302 - val_accuracy: 0.7996\n",
            "Epoch 8/10\n",
            "2780/2780 [==============================] - 50s 18ms/step - loss: 0.4087 - accuracy: 0.8887 - val_loss: 0.7461 - val_accuracy: 0.8003\n",
            "Epoch 9/10\n",
            "2780/2780 [==============================] - 50s 18ms/step - loss: 0.3747 - accuracy: 0.8986 - val_loss: 0.7777 - val_accuracy: 0.7980\n",
            "Epoch 10/10\n",
            "2780/2780 [==============================] - 52s 19ms/step - loss: 0.3388 - accuracy: 0.9102 - val_loss: 0.8250 - val_accuracy: 0.7955\n"
          ]
        },
        {
          "data": {
            "text/plain": [
              "<keras.src.callbacks.History at 0x79f393b38e20>"
            ]
          },
          "execution_count": 26,
          "metadata": {},
          "output_type": "execute_result"
        }
      ],
      "source": [
        "from keras.callbacks import EarlyStopping\n",
        "batch_size = 32\n",
        "epoch_num = 10\n",
        "model = build_lstm_model(embedding_matrix, max_length, y_train.shape[1])\n",
        "early_stopping = EarlyStopping(monitor='val_loss', patience=10, verbose=1, restore_best_weights=True)\n",
        "model.fit(X_train, y_train, batch_size=batch_size, epochs=epoch_num, validation_split=0.2, callbacks=[early_stopping])\n"
      ]
    },
    {
      "cell_type": "code",
      "execution_count": 27,
      "metadata": {
        "colab": {
          "base_uri": "https://localhost:8080/",
          "height": 736
        },
        "id": "c5GS83iJx8KQ",
        "outputId": "511ef45c-d61a-462f-8ef6-386954a114ec"
      },
      "outputs": [
        {
          "name": "stdout",
          "output_type": "stream",
          "text": [
            "869/869 [==============================] - 8s 7ms/step\n"
          ]
        },
        {
          "data": {
            "image/png": "[encoded data removed]",
            "text/plain": [
              "<Figure size 1000x800 with 2 Axes>"
            ]
          },
          "metadata": {},
          "output_type": "display_data"
        }
      ],
      "source": [
        "# Predicting the test set results\n",
        "y_pred = model.predict(X_test)\n",
        "y_pred_classes = np.argmax(y_pred, axis=1)\n",
        "y_true = np.argmax(y_test, axis=1)\n",
        "\n",
        "# Generating the confusion matrix\n",
        "cm = confusion_matrix(y_true, y_pred_classes)\n",
        "\n",
        "plt.figure(figsize=(10,8))\n",
        "sns.heatmap(cm, annot=True, fmt='d', cmap='Blues')\n",
        "plt.title('Confusion Matrix')\n",
        "plt.ylabel('True Label')\n",
        "plt.xlabel('Predicted Label')\n",
        "plt.show()\n"
      ]
    },
    {
      "cell_type": "code",
      "execution_count": 28,
      "metadata": {
        "colab": {
          "base_uri": "https://localhost:8080/"
        },
        "id": "cAcGXPZ3x8Mc",
        "outputId": "91697b2f-e717-4e8b-9b81-28c653656fb0"
      },
      "outputs": [
        {
          "name": "stdout",
          "output_type": "stream",
          "text": [
            "accuracy_score of test set: 0.7936319481921209\n"
          ]
        }
      ],
      "source": [
        "# Accuracy Score\n",
        "import sklearn.metrics\n",
        "accuracy_score = sklearn.metrics.accuracy_score(y_true, y_pred_classes)\n",
        "print(\"accuracy_score of test set:\", accuracy_score)"
      ]
    },
    {
      "cell_type": "code",
      "execution_count": 29,
      "metadata": {
        "colab": {
          "base_uri": "https://localhost:8080/"
        },
        "id": "tdDuywAhx8Ou",
        "outputId": "e61b67b3-1fdd-43e8-bf66-ee884fccb119"
      },
      "outputs": [
        {
          "name": "stdout",
          "output_type": "stream",
          "text": [
            "Classification Report:\n",
            "              precision    recall  f1-score   support\n",
            "\n",
            "           0       0.67      0.58      0.62      1557\n",
            "           1       0.52      0.47      0.50      1080\n",
            "           2       0.72      0.77      0.75      3421\n",
            "           3       0.83      0.82      0.82      1716\n",
            "           4       0.73      0.81      0.77      2581\n",
            "           5       0.89      0.87      0.88      7067\n",
            "           6       0.76      0.77      0.76       991\n",
            "           7       0.81      0.85      0.83      2453\n",
            "           8       0.82      0.81      0.82      1987\n",
            "           9       0.82      0.78      0.80      4942\n",
            "\n",
            "    accuracy                           0.79     27795\n",
            "   macro avg       0.76      0.75      0.75     27795\n",
            "weighted avg       0.79      0.79      0.79     27795\n",
            "\n"
          ]
        }
      ],
      "source": [
        "print(\"Classification Report:\")\n",
        "print(classification_report(y_true, y_pred_classes))"
      ]
    }
  ],
  "metadata": {
    "accelerator": "GPU",
    "colab": {
      "gpuType": "T4",
      "provenance": []
    },
    "kernelspec": {
      "display_name": "Python 3",
      "name": "python3"
    },
    "language_info": {
      "name": "python"
    }
  },
  "nbformat": 4,
  "nbformat_minor": 0
}
